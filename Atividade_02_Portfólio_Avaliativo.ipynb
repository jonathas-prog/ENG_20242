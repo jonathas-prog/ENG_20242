{
  "nbformat": 4,
  "nbformat_minor": 0,
  "metadata": {
    "colab": {
      "provenance": [],
      "authorship_tag": "ABX9TyOg6Y2oC4CNXoHppK9CIl3M",
      "include_colab_link": true
    },
    "kernelspec": {
      "name": "python3",
      "display_name": "Python 3"
    },
    "language_info": {
      "name": "python"
    }
  },
  "cells": [
    {
      "cell_type": "markdown",
      "metadata": {
        "id": "view-in-github",
        "colab_type": "text"
      },
      "source": [
        "<a href=\"https://colab.research.google.com/github/jonathas-prog/ENG_20242/blob/main/Atividade_02_Portf%C3%B3lio_Avaliativo.ipynb\" target=\"_parent\"><img src=\"https://colab.research.google.com/assets/colab-badge.svg\" alt=\"Open In Colab\"/></a>"
      ]
    },
    {
      "cell_type": "code",
      "execution_count": 5,
      "metadata": {
        "colab": {
          "base_uri": "https://localhost:8080/"
        },
        "id": "kMgxGwK0a0nR",
        "outputId": "ec948757-f937-43a8-b8b8-e2f028213d51"
      },
      "outputs": [
        {
          "output_type": "stream",
          "name": "stdout",
          "text": [
            "[1, 3, 5, 7, 9]\n"
          ]
        }
      ],
      "source": [
        "#1. Crie uma função que receba uma lista de números e retorne uma lista contendo apenas os números ímpares.\n",
        "lista = [1,2,3,4,5,6,7,8,9,10]\n",
        "def numeros_impares(lista):\n",
        "    return [num for num in lista if num % 2 != 0]\n",
        "print(numeros_impares(lista))"
      ]
    },
    {
      "cell_type": "code",
      "source": [
        "#2. Escreva uma função que receba uma lista e retorne uma nova lista com o dobro de cada elemento.\n",
        "lista = [1,2,3,4,5,6,7,8,9,10]\n",
        "def dobro_elementos(lista):\n",
        "    return [2 * num for num in lista]\n",
        "print(dobro_elementos(lista))"
      ],
      "metadata": {
        "colab": {
          "base_uri": "https://localhost:8080/"
        },
        "id": "PtubZmOgbJVr",
        "outputId": "bd4597db-f490-48b0-ba85-706bcc2258c1"
      },
      "execution_count": 8,
      "outputs": [
        {
          "output_type": "stream",
          "name": "stdout",
          "text": [
            "[2, 4, 6, 8, 10, 12, 14, 16, 18, 20]\n"
          ]
        }
      ]
    },
    {
      "cell_type": "code",
      "source": [
        "#3. Faça uma função que receba uma lista e retorne uma lista sem duplicatas.\n",
        "lista = [1,2,2,3,4,5,6,7,7,8,9,9,10]\n",
        "def sem_duplicatas(lista):\n",
        "    return list(set(lista))\n",
        "print(sem_duplicatas(lista))"
      ],
      "metadata": {
        "colab": {
          "base_uri": "https://localhost:8080/"
        },
        "id": "m2W9Nma6bNiF",
        "outputId": "d3e1ece5-b457-4b2f-add1-1d478ff557d5"
      },
      "execution_count": 11,
      "outputs": [
        {
          "output_type": "stream",
          "name": "stdout",
          "text": [
            "[1, 2, 3, 4, 5, 6, 7, 8, 9, 10]\n"
          ]
        }
      ]
    },
    {
      "cell_type": "code",
      "source": [
        "#4. Crie uma função que receba uma lista e um valor divisor e retorne uma lista dos elementos que são divisíveis pelo divisor.\n",
        "lista = [1,2,3,4,5,6,7,8,9,10]\n",
        "def divisiveis_por(lista, divisor):\n",
        "    return [num for num in lista if num % 2 == 0]\n",
        "    print(divisiveis_por(lista,2))"
      ],
      "metadata": {
        "id": "u3eG0DbybRf4"
      },
      "execution_count": 20,
      "outputs": []
    },
    {
      "cell_type": "code",
      "source": [
        "#5. Escreva uma função que receba duas listas e retorne um conjunto com os elementos que aparecem em ambas.\n"
      ],
      "metadata": {
        "id": "yZrCw4vGbVah"
      },
      "execution_count": 26,
      "outputs": []
    },
    {
      "cell_type": "code",
      "source": [
        "#6. Crie uma função que receba uma lista e retorne uma nova lista com os elementos em ordem inversa.\n",
        "lista = [1,2,3,4,5,6,7,8,9,10]\n",
        "def ordem_inversa(lista):\n",
        "    return lista[::-1]\n",
        "print(ordem_inversa(lista))"
      ],
      "metadata": {
        "colab": {
          "base_uri": "https://localhost:8080/"
        },
        "id": "Hyprf1qGbZhS",
        "outputId": "501467b5-0589-42dc-8ebb-57e5420e910d"
      },
      "execution_count": 27,
      "outputs": [
        {
          "output_type": "stream",
          "name": "stdout",
          "text": [
            "[10, 9, 8, 7, 6, 5, 4, 3, 2, 1]\n"
          ]
        }
      ]
    },
    {
      "cell_type": "code",
      "source": [
        "#7. Escreva uma função que receba uma lista de números e retorne uma lista contendo o quadrado de cada número.\n",
        "lista = [1,2,3,4,5,6,7,8,9,10]\n",
        "def quadrado_elementos(lista):\n",
        "    return [num ** 2 for num in lista]\n",
        "print(quadrado_elementos(lista))"
      ],
      "metadata": {
        "colab": {
          "base_uri": "https://localhost:8080/"
        },
        "id": "lKVLAW2Nbbnz",
        "outputId": "5f58b5a1-b593-45af-a204-cf469f4f9914"
      },
      "execution_count": 29,
      "outputs": [
        {
          "output_type": "stream",
          "name": "stdout",
          "text": [
            "[1, 4, 9, 16, 25, 36, 49, 64, 81, 100]\n"
          ]
        }
      ]
    },
    {
      "cell_type": "code",
      "source": [
        "#8. Crie uma função que receba uma lista e um valor, e retorne uma lista com os elementos maiores que esse valor.\n",
        "lista = [1,2,3,4,5,6,7,8,9,10]\n",
        "valor = 5\n",
        "def maiores_que(lista, valor):\n",
        "    return [num for num in lista if num > valor]\n",
        "print(maiores_que(lista, valor))"
      ],
      "metadata": {
        "colab": {
          "base_uri": "https://localhost:8080/"
        },
        "id": "42Ps7nq2beZK",
        "outputId": "955fdea5-bdbf-459c-a0a7-8b7c90527a83"
      },
      "execution_count": 31,
      "outputs": [
        {
          "output_type": "stream",
          "name": "stdout",
          "text": [
            "[6, 7, 8, 9, 10]\n"
          ]
        }
      ]
    },
    {
      "cell_type": "code",
      "source": [
        "#9. Escreva uma função que receba duas listas e retorne uma lista dos elementos que estão em apenas uma das listas.\n",
        "lista1 = [1,2,3,4,5]\n",
        "lista2 = [4,5,6,7,8]\n",
        "def elementos_unicos_comum(lista1, lista2):\n",
        "    return list(set(lista1) & set(lista2))\n",
        "print(elementos_unicos_comum(lista1, lista2))"
      ],
      "metadata": {
        "colab": {
          "base_uri": "https://localhost:8080/"
        },
        "id": "VTOEFXdJbhGZ",
        "outputId": "fae7c272-ea2d-413e-c960-2e55c447d058"
      },
      "execution_count": 45,
      "outputs": [
        {
          "output_type": "stream",
          "name": "stdout",
          "text": [
            "[4, 5]\n"
          ]
        }
      ]
    },
    {
      "cell_type": "code",
      "source": [
        "#10. Faça uma função que receba uma lista e retorne um conjunto dos elementos únicos.\n",
        "lista = [1,2,2,4,4,6,7,8,10,10]\n",
        "def elementos_unicos_lista(lista):\n",
        "    return set(lista)\n",
        "print(elementos_unicos_lista(lista))\n"
      ],
      "metadata": {
        "colab": {
          "base_uri": "https://localhost:8080/"
        },
        "id": "FD0ucyxbb5Bg",
        "outputId": "cd057f67-b631-4bf2-c613-2fca2db24e02"
      },
      "execution_count": 36,
      "outputs": [
        {
          "output_type": "stream",
          "name": "stdout",
          "text": [
            "{1, 2, 4, 6, 7, 8, 10}\n"
          ]
        }
      ]
    },
    {
      "cell_type": "code",
      "source": [
        "#11. Crie uma função que receba duas listas e retorne uma lista dos elementos únicos que estão em ambas.\n",
        "lista1 = [1,2,3,4,5]\n",
        "lista2 = [4,5,6,7,8]\n",
        "def elementos_unicos(lista1, lista2):\n",
        "    return list(set(lista1) ^ set(lista2))\n",
        "print(elementos_unicos(lista1, lista2))\n"
      ],
      "metadata": {
        "colab": {
          "base_uri": "https://localhost:8080/"
        },
        "id": "BBtjwcZtb8Q5",
        "outputId": "c0df8fbf-b423-40d8-ea5d-d02499572e61"
      },
      "execution_count": 37,
      "outputs": [
        {
          "output_type": "stream",
          "name": "stdout",
          "text": [
            "[1, 2, 3, 6, 7, 8]\n"
          ]
        }
      ]
    },
    {
      "cell_type": "code",
      "source": [
        "#12. Escreva uma função que receba uma lista e retorne uma lista contendo os elementos que aparecem mais de uma vez.\n",
        "lista = [1,2,2,4,4,5,6,7,7,8,9]\n",
        "from collections import Counter\n",
        "\n",
        "def elementos_repetidos(lista):\n",
        "    counter = Counter(lista)\n",
        "    return [item for item, count in counter.items() if count > 1]\n",
        "\n",
        "lista = [1,2,3,4,5,1,2]\n",
        "print(elementos_repetidos(lista))"
      ],
      "metadata": {
        "colab": {
          "base_uri": "https://localhost:8080/"
        },
        "id": "_X_RKhl6b_TC",
        "outputId": "9237f083-0c81-4f56-e1de-e083c04f65aa"
      },
      "execution_count": 51,
      "outputs": [
        {
          "output_type": "stream",
          "name": "stdout",
          "text": [
            "[1, 2]\n"
          ]
        }
      ]
    },
    {
      "cell_type": "code",
      "source": [
        "#13. Faça uma função que receba uma lista de números e retorne uma lista dos números pares.\n",
        "lista = [1,2,3,4,5,6,7,8,9,10]\n",
        "def numeros_pares(lista):\n",
        "    return [num for num in lista if num % 2 == 0]\n",
        "print(numeros_pares(lista))\n",
        "\n"
      ],
      "metadata": {
        "colab": {
          "base_uri": "https://localhost:8080/"
        },
        "id": "IM6SgBr1cCH7",
        "outputId": "0b3f7c82-f6ae-4d1b-c06c-195b35da1971"
      },
      "execution_count": 52,
      "outputs": [
        {
          "output_type": "stream",
          "name": "stdout",
          "text": [
            "[2, 4, 6, 8, 10]\n"
          ]
        }
      ]
    },
    {
      "cell_type": "code",
      "source": [
        "#14. Escreva uma função que receba uma lista de números e um valor, e retorne uma lista com os índices dos elementos maiores que o valor.\n",
        "lista = [1,2,3,4,5,6,7,8,9,10]\n",
        "valor = 4\n",
        "def indices_maiores_que(lista, valor):\n",
        "    return [i for i, num in enumerate(lista) if num > valor]\n",
        "print(indices_maiores_que(lista, valor))"
      ],
      "metadata": {
        "colab": {
          "base_uri": "https://localhost:8080/"
        },
        "id": "2g4yVhfQcGUV",
        "outputId": "e59ab9e5-bdf4-43ef-da71-7e2e3c129118"
      },
      "execution_count": 54,
      "outputs": [
        {
          "output_type": "stream",
          "name": "stdout",
          "text": [
            "[4, 5, 6, 7, 8, 9]\n"
          ]
        }
      ]
    },
    {
      "cell_type": "code",
      "source": [
        "#15. Crie uma função que receba uma lista de strings e retorne uma lista com o tamanho de cada string.\n",
        "lista = ['programacao','python','professor','prova']\n",
        "def tamanho_strings(lista):\n",
        "    return [len(s) for s in lista]\n",
        "print(tamanho_strings(lista))\n"
      ],
      "metadata": {
        "colab": {
          "base_uri": "https://localhost:8080/"
        },
        "id": "6y_ygmuccJ5D",
        "outputId": "fb37745a-17b8-404f-aac1-5656256d94d1"
      },
      "execution_count": 56,
      "outputs": [
        {
          "output_type": "stream",
          "name": "stdout",
          "text": [
            "[11, 6, 9, 5]\n"
          ]
        }
      ]
    },
    {
      "cell_type": "code",
      "source": [
        "#16. Escreva uma função que receba uma lista de números e retorne uma lista contendo cada número elevado ao cubo.\n",
        "lista = [1,2,3,4,5]\n",
        "def cubo_elementos(lista):\n",
        "    return [num ** 3 for num in lista]\n",
        "print(cubo_elementos(lista))\n"
      ],
      "metadata": {
        "colab": {
          "base_uri": "https://localhost:8080/"
        },
        "id": "7xfrAPXWcMdM",
        "outputId": "57129ab3-af67-456b-e684-e4279fe2c0f2"
      },
      "execution_count": 57,
      "outputs": [
        {
          "output_type": "stream",
          "name": "stdout",
          "text": [
            "[1, 8, 27, 64, 125]\n"
          ]
        }
      ]
    },
    {
      "cell_type": "code",
      "source": [
        "#17. Crie uma função que receba uma lista e retorne uma lista de todos os elementos únicos.\n",
        "lista = [1,2,2,4,4,5,6,7,7,8,9]\n",
        "def elementos_unicos(lista):\n",
        "    return list(set(lista))\n",
        "print(elementos_unicos(lista))"
      ],
      "metadata": {
        "colab": {
          "base_uri": "https://localhost:8080/"
        },
        "id": "c5f_faM3cOrr",
        "outputId": "99b40c1e-3277-408a-ff59-89837feaae60"
      },
      "execution_count": 58,
      "outputs": [
        {
          "output_type": "stream",
          "name": "stdout",
          "text": [
            "[1, 2, 4, 5, 6, 7, 8, 9]\n"
          ]
        }
      ]
    },
    {
      "source": [
        "#18. Escreva uma função que receba uma lista de strings e retorne uma lista contendo as strings que começam com uma letra maiúscula.\n",
        "lista = ['Programacao','python','Professor','prova']\n",
        "def comeca_com_maiuscula(lista):\n",
        "    return [s for s in lista if s[0].isupper()]\n",
        "print(comeca_com_maiuscula(lista))"
      ],
      "cell_type": "code",
      "metadata": {
        "colab": {
          "base_uri": "https://localhost:8080/"
        },
        "id": "scOHoESPq_lj",
        "outputId": "e31db46f-787e-4270-b219-9bd83248c3b9"
      },
      "execution_count": 62,
      "outputs": [
        {
          "output_type": "stream",
          "name": "stdout",
          "text": [
            "['Programacao', 'Professor']\n"
          ]
        }
      ]
    },
    {
      "cell_type": "code",
      "source": [
        "#19. Faça uma função que receba uma lista de números e retorne uma lista contendo apenas os múltiplos de 3.\n",
        "lista = [1,2,3,4,5,6,7,8,9,10,11,12]\n",
        "def multiplos_de_tres(lista):\n",
        "    return [num for num in lista if num % 3 == 0]\n",
        "print(multiplos_de_tres(lista))"
      ],
      "metadata": {
        "colab": {
          "base_uri": "https://localhost:8080/"
        },
        "id": "7vF4WV9LcTi0",
        "outputId": "1edf3d3f-bc66-453b-db74-cc2616022090"
      },
      "execution_count": 63,
      "outputs": [
        {
          "output_type": "stream",
          "name": "stdout",
          "text": [
            "[3, 6, 9, 12]\n"
          ]
        }
      ]
    },
    {
      "cell_type": "code",
      "source": [
        "#20. Escreva uma função que receba duas listas e retorne uma lista com a interseção ordenada de forma crescente entre elas.\n",
        "lista1 = [1,2,6,4]\n",
        "lista2 = [3,5,8,7]\n",
        "def interseccao_ordenada(lista1, lista2):\n",
        "    lista3 = []\n",
        "    for i lista in lista1:\n",
        "        if i in lista2:\n",
        "            lista3.append(i)\n",
        "            lista3.sort()\n",
        "            return lista3\n",
        "            print(interseccao_ordenada(lista1, lista2))\n"
      ],
      "metadata": {
        "colab": {
          "base_uri": "https://localhost:8080/",
          "height": 108
        },
        "id": "KeSRRnJHcVqO",
        "outputId": "265ca84c-a026-4906-fb73-8752426ba819"
      },
      "execution_count": 66,
      "outputs": [
        {
          "output_type": "error",
          "ename": "SyntaxError",
          "evalue": "invalid syntax (<ipython-input-66-eab34e203313>, line 6)",
          "traceback": [
            "\u001b[0;36m  File \u001b[0;32m\"<ipython-input-66-eab34e203313>\"\u001b[0;36m, line \u001b[0;32m6\u001b[0m\n\u001b[0;31m    for i lista in lista1:\u001b[0m\n\u001b[0m          ^\u001b[0m\n\u001b[0;31mSyntaxError\u001b[0m\u001b[0;31m:\u001b[0m invalid syntax\n"
          ]
        }
      ]
    }
  ]
}